{
 "cells": [
  {
   "cell_type": "code",
   "execution_count": 3,
   "id": "727a92ea",
   "metadata": {},
   "outputs": [
    {
     "name": "stdout",
     "output_type": "stream",
     "text": [
      "tensor([[0., 0., 0.],\n",
      "        [0., 0., 0.]])\n",
      "tensor([[1., 1., 1.],\n",
      "        [1., 1., 1.]])\n",
      "tensor([[0.3515, 0.3237, 0.0644],\n",
      "        [0.7457, 0.1282, 0.4990]])\n"
     ]
    }
   ],
   "source": [
    "import torch\n",
    "\n",
    "shape = [2,3]\n",
    "xzeros = torch.zeros(shape)\n",
    "xones = torch.ones(shape)\n",
    "xrnd = torch.rand(shape)\n",
    "\n",
    "print(xzeros)\n",
    "print(xones)\n",
    "print(xrnd) # each time code runs new randoms value are generated"
   ]
  },
  {
   "cell_type": "code",
   "execution_count": 10,
   "id": "f3f21dc6",
   "metadata": {},
   "outputs": [
    {
     "name": "stdout",
     "output_type": "stream",
     "text": [
      "tensor([[0.4657, 0.2328, 0.4527],\n",
      "        [0.5871, 0.4086, 0.1272]])\n"
     ]
    }
   ],
   "source": [
    "torch.manual_seed(12) # fix randoms values generated\n",
    "print(torch.rand(shape))"
   ]
  }
 ],
 "metadata": {
  "kernelspec": {
   "display_name": "Python 3 (ipykernel)",
   "language": "python",
   "name": "python3"
  },
  "language_info": {
   "codemirror_mode": {
    "name": "ipython",
    "version": 3
   },
   "file_extension": ".py",
   "mimetype": "text/x-python",
   "name": "python",
   "nbconvert_exporter": "python",
   "pygments_lexer": "ipython3",
   "version": "3.9.7"
  }
 },
 "nbformat": 4,
 "nbformat_minor": 5
}

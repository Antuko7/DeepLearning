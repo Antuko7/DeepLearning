{
 "cells": [
  {
   "cell_type": "code",
   "execution_count": 12,
   "id": "dd5f5375",
   "metadata": {},
   "outputs": [
    {
     "name": "stdout",
     "output_type": "stream",
     "text": [
      "tensor([[ 8, 10, 12],\n",
      "        [14, 16, 18]])\n"
     ]
    },
    {
     "data": {
      "text/plain": [
       "<function Tensor.type>"
      ]
     },
     "execution_count": 12,
     "metadata": {},
     "output_type": "execute_result"
    }
   ],
   "source": [
    "import torch\n",
    "import numpy as np\n",
    "\n",
    "y = torch.tensor([[7, 8, 9],[10, 11, 12]])\n",
    "\n",
    "xnp = np.array([[1, 2, 3],[4, 5, 6]])\n",
    "xtensor = torch.from_numpy(xnp)\n",
    "f2 = xtensor + y\n",
    "print(f2)\n",
    "f2.type"
   ]
  },
  {
   "cell_type": "code",
   "execution_count": 19,
   "id": "4d6aecba",
   "metadata": {},
   "outputs": [
    {
     "name": "stdout",
     "output_type": "stream",
     "text": [
      "torch.LongTensor\n"
     ]
    },
    {
     "data": {
      "text/plain": [
       "numpy.ndarray"
      ]
     },
     "execution_count": 19,
     "metadata": {},
     "output_type": "execute_result"
    }
   ],
   "source": [
    "print(f2.type()) # call the tensor type method\n",
    "f2np = f2.numpy() # create an array from the tensor\n",
    "type(f2np) # uses the python inbuilt type()"
   ]
  },
  {
   "cell_type": "code",
   "execution_count": 20,
   "id": "27ccb4ae",
   "metadata": {},
   "outputs": [
    {
     "name": "stdout",
     "output_type": "stream",
     "text": [
      "True\n",
      "tensor([1., 0., 1.], dtype=torch.float64)\n"
     ]
    }
   ],
   "source": [
    "a = np.ones(3) \n",
    "t = torch.from_numpy(a)\n",
    "b = t.numpy()\n",
    "b[1] = 0\n",
    "print(a[1] == b[1])\n",
    "print(t)\n",
    "# a, t, b share the same memory \n",
    "# if a value inside a specific array or a tensor is change \n",
    "# all objects change because they share the same memory"
   ]
  },
  {
   "cell_type": "code",
   "execution_count": 24,
   "id": "337f2709",
   "metadata": {},
   "outputs": [
    {
     "data": {
      "text/plain": [
       "tensor([[1, 1, 1],\n",
       "        [1, 1, 1]], dtype=torch.int8)"
      ]
     },
     "execution_count": 24,
     "metadata": {},
     "output_type": "execute_result"
    }
   ],
   "source": [
    "int8np = np.ones((2,3), dtype = np.int8)\n",
    "bad = torch.from_numpy(int8np)\n",
    "bad # Python 3.7 has problem to recognize 8 bits as tensor. "
   ]
  },
  {
   "cell_type": "code",
   "execution_count": 25,
   "id": "e9945f3a",
   "metadata": {},
   "outputs": [
    {
     "data": {
      "text/plain": [
       "'torch.IntTensor'"
      ]
     },
     "execution_count": 25,
     "metadata": {},
     "output_type": "execute_result"
    }
   ],
   "source": [
    "good = torch.from_numpy(int8np.astype(np.int32))\n",
    "good.type()"
   ]
  },
  {
   "cell_type": "code",
   "execution_count": 28,
   "id": "1e61822d",
   "metadata": {},
   "outputs": [
    {
     "name": "stdout",
     "output_type": "stream",
     "text": [
      "tensor([[1, 1, 1],\n",
      "        [1, 1, 1]], dtype=torch.int32)\n"
     ]
    },
    {
     "data": {
      "text/plain": [
       "'torch.IntTensor'"
      ]
     },
     "execution_count": 28,
     "metadata": {},
     "output_type": "execute_result"
    }
   ],
   "source": [
    "xint = torch.ones((2,3), dtype = torch.int)\n",
    "print(xint)\n",
    "xint.type() # by default the int type tensor in PyTorch is 32 bits"
   ]
  }
 ],
 "metadata": {
  "kernelspec": {
   "display_name": "Python 3 (ipykernel)",
   "language": "python",
   "name": "python3"
  },
  "language_info": {
   "codemirror_mode": {
    "name": "ipython",
    "version": 3
   },
   "file_extension": ".py",
   "mimetype": "text/x-python",
   "name": "python",
   "nbconvert_exporter": "python",
   "pygments_lexer": "ipython3",
   "version": "3.9.7"
  }
 },
 "nbformat": 4,
 "nbformat_minor": 5
}
